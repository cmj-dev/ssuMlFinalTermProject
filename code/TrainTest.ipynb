{
 "cells": [
  {
   "cell_type": "code",
   "execution_count": 35,
   "metadata": {},
   "outputs": [],
   "source": [
    "import pandas as pd\n",
    "import numpy as np\n",
    "import numpy.linalg as npl\n",
    "import matplotlib.pyplot as plt"
   ]
  },
  {
   "attachments": {},
   "cell_type": "markdown",
   "metadata": {},
   "source": [
    "## Read CSV"
   ]
  },
  {
   "cell_type": "code",
   "execution_count": 36,
   "metadata": {},
   "outputs": [],
   "source": [
    "TrainTestDf = pd.read_csv('preProcessedData.csv', index_col=0)\n",
    "qualityDf = pd.read_csv('../data/test_data/quality_response_remapped_public.csv')"
   ]
  },
  {
   "cell_type": "code",
   "execution_count": 37,
   "metadata": {},
   "outputs": [],
   "source": [
    "dropCol = ['T1','T2','T3','T4','T5']\n",
    "X = TrainTestDf.drop(dropCol,axis=1)"
   ]
  },
  {
   "cell_type": "code",
   "execution_count": 38,
   "metadata": {},
   "outputs": [],
   "source": [
    "testTaskDf = pd.read_csv('../data/test_data/quality_response_remapped_private.csv')\n",
    "testTaskDf = testTaskDf.iloc[:,2:]\n",
    "testIndex = list(set(testTaskDf.iloc[:,1]) | set(testTaskDf.iloc[:,0]))\n",
    "testDf = X.loc[testIndex,:]"
   ]
  },
  {
   "cell_type": "code",
   "execution_count": 39,
   "metadata": {},
   "outputs": [
    {
     "data": {
      "text/html": [
       "<div>\n",
       "<style scoped>\n",
       "    .dataframe tbody tr th:only-of-type {\n",
       "        vertical-align: middle;\n",
       "    }\n",
       "\n",
       "    .dataframe tbody tr th {\n",
       "        vertical-align: top;\n",
       "    }\n",
       "\n",
       "    .dataframe thead th {\n",
       "        text-align: right;\n",
       "    }\n",
       "</style>\n",
       "<table border=\"1\" class=\"dataframe\">\n",
       "  <thead>\n",
       "    <tr style=\"text-align: right;\">\n",
       "      <th></th>\n",
       "      <th>AnswerProba</th>\n",
       "      <th>ElseEntropy</th>\n",
       "      <th>AnswerEntropy</th>\n",
       "      <th>stdX</th>\n",
       "      <th>stdY</th>\n",
       "      <th>text_length</th>\n",
       "      <th>alphaWordCount</th>\n",
       "      <th>signWordCount</th>\n",
       "      <th>numericWordCount</th>\n",
       "      <th>avg_word_length</th>\n",
       "    </tr>\n",
       "  </thead>\n",
       "  <tbody>\n",
       "    <tr>\n",
       "      <th>0</th>\n",
       "      <td>0.443457</td>\n",
       "      <td>1.316125</td>\n",
       "      <td>0.990755</td>\n",
       "      <td>170.009451</td>\n",
       "      <td>129.982344</td>\n",
       "      <td>148.0</td>\n",
       "      <td>27.0</td>\n",
       "      <td>5.0</td>\n",
       "      <td>1.0</td>\n",
       "      <td>5.481481</td>\n",
       "    </tr>\n",
       "    <tr>\n",
       "      <th>1</th>\n",
       "      <td>0.571429</td>\n",
       "      <td>0.650022</td>\n",
       "      <td>0.985228</td>\n",
       "      <td>165.986461</td>\n",
       "      <td>111.304075</td>\n",
       "      <td>53.0</td>\n",
       "      <td>9.0</td>\n",
       "      <td>1.0</td>\n",
       "      <td>8.0</td>\n",
       "      <td>5.888889</td>\n",
       "    </tr>\n",
       "    <tr>\n",
       "      <th>2</th>\n",
       "      <td>0.385214</td>\n",
       "      <td>1.560775</td>\n",
       "      <td>0.961641</td>\n",
       "      <td>197.194749</td>\n",
       "      <td>133.458086</td>\n",
       "      <td>100.0</td>\n",
       "      <td>11.0</td>\n",
       "      <td>26.0</td>\n",
       "      <td>4.0</td>\n",
       "      <td>9.090909</td>\n",
       "    </tr>\n",
       "    <tr>\n",
       "      <th>3</th>\n",
       "      <td>0.808757</td>\n",
       "      <td>1.564606</td>\n",
       "      <td>0.704063</td>\n",
       "      <td>188.986115</td>\n",
       "      <td>143.703961</td>\n",
       "      <td>60.0</td>\n",
       "      <td>11.0</td>\n",
       "      <td>5.0</td>\n",
       "      <td>4.0</td>\n",
       "      <td>5.454545</td>\n",
       "    </tr>\n",
       "    <tr>\n",
       "      <th>4</th>\n",
       "      <td>0.401408</td>\n",
       "      <td>1.568387</td>\n",
       "      <td>0.971769</td>\n",
       "      <td>190.131950</td>\n",
       "      <td>111.250841</td>\n",
       "      <td>160.0</td>\n",
       "      <td>42.0</td>\n",
       "      <td>5.0</td>\n",
       "      <td>0.0</td>\n",
       "      <td>3.809524</td>\n",
       "    </tr>\n",
       "  </tbody>\n",
       "</table>\n",
       "</div>"
      ],
      "text/plain": [
       "   AnswerProba  ElseEntropy  AnswerEntropy        stdX        stdY  \\\n",
       "0     0.443457     1.316125       0.990755  170.009451  129.982344   \n",
       "1     0.571429     0.650022       0.985228  165.986461  111.304075   \n",
       "2     0.385214     1.560775       0.961641  197.194749  133.458086   \n",
       "3     0.808757     1.564606       0.704063  188.986115  143.703961   \n",
       "4     0.401408     1.568387       0.971769  190.131950  111.250841   \n",
       "\n",
       "   text_length  alphaWordCount  signWordCount  numericWordCount  \\\n",
       "0        148.0            27.0            5.0               1.0   \n",
       "1         53.0             9.0            1.0               8.0   \n",
       "2        100.0            11.0           26.0               4.0   \n",
       "3         60.0            11.0            5.0               4.0   \n",
       "4        160.0            42.0            5.0               0.0   \n",
       "\n",
       "   avg_word_length  \n",
       "0         5.481481  \n",
       "1         5.888889  \n",
       "2         9.090909  \n",
       "3         5.454545  \n",
       "4         3.809524  "
      ]
     },
     "execution_count": 39,
     "metadata": {},
     "output_type": "execute_result"
    }
   ],
   "source": [
    "X.head()"
   ]
  },
  {
   "attachments": {},
   "cell_type": "markdown",
   "metadata": {},
   "source": [
    "## Model subset selection"
   ]
  },
  {
   "cell_type": "code",
   "execution_count": 40,
   "metadata": {},
   "outputs": [],
   "source": [
    "from itertools import combinations\n",
    "from sklearn.linear_model import LogisticRegression\n",
    "from sklearn.model_selection import cross_validate\n",
    "from sklearn.preprocessing import StandardScaler"
   ]
  },
  {
   "cell_type": "code",
   "execution_count": 41,
   "metadata": {},
   "outputs": [
    {
     "name": "stdout",
     "output_type": "stream",
     "text": [
      "((0, 2, 3, 6), 0.7777777777777778)\n",
      "((0, 1, 2, 3, 4, 5, 7, 9), 0.7555555555555555)\n",
      "((0, 1, 8), 0.7788461538461539)\n",
      "((0, 1, 3, 7), 0.7155555555555555)\n",
      "((0, 1, 5, 6), 0.7577777777777779)\n"
     ]
    }
   ],
   "source": [
    "subSet = {}\n",
    "for i in range(1,6):\n",
    "    lrCombScores = {}\n",
    "    svmCombScores = {}\n",
    "    for j in range(1,11):\n",
    "        for colIdx in combinations(range(0,10),j):\n",
    "            scaler = StandardScaler()\n",
    "            lr = LogisticRegression()\n",
    "            combX = X.iloc[:,list(colIdx)]\n",
    "            combX = pd.concat((combX, TrainTestDf[f'T{i}']),axis=1)\n",
    "            combX.dropna(inplace=True)\n",
    "            X_train = np.hstack((scaler.fit_transform(combX.iloc[:,:-1]), np.array(combX.iloc[:,-1]).reshape(-1,1)))\n",
    "            lrCv = cross_validate(lr,X_train[:,:-1],X_train[:,-1],n_jobs=-1,cv=X_train.shape[1])\n",
    "            lrCombScores[colIdx] = np.mean(lrCv['test_score'])\n",
    "    subSet[f'lrT{i}'] = max(lrCombScores.items(), key=lambda x: x[1])\n",
    "    print(subSet[f'lrT{i}'])"
   ]
  },
  {
   "cell_type": "code",
   "execution_count": 42,
   "metadata": {},
   "outputs": [
    {
     "name": "stdout",
     "output_type": "stream",
     "text": [
      "Index(['AnswerProba', 'AnswerEntropy', 'stdX', 'alphaWordCount'], dtype='object')\n",
      "Index(['AnswerProba', 'ElseEntropy', 'AnswerEntropy', 'stdX', 'stdY',\n",
      "       'text_length', 'signWordCount', 'avg_word_length'],\n",
      "      dtype='object')\n",
      "Index(['AnswerProba', 'ElseEntropy', 'numericWordCount'], dtype='object')\n",
      "Index(['AnswerProba', 'ElseEntropy', 'stdX', 'signWordCount'], dtype='object')\n",
      "Index(['AnswerProba', 'ElseEntropy', 'text_length', 'alphaWordCount'], dtype='object')\n"
     ]
    }
   ],
   "source": [
    "for s,_ in subSet.values():\n",
    "    print(X.columns[list(s)])"
   ]
  },
  {
   "attachments": {},
   "cell_type": "markdown",
   "metadata": {},
   "source": [
    "### Validation"
   ]
  },
  {
   "cell_type": "code",
   "execution_count": 43,
   "metadata": {},
   "outputs": [],
   "source": [
    "lrModels = []\n",
    "lrValidScores = []\n",
    "validProba = []\n",
    "for i in range(1,6):\n",
    "    scaler = StandardScaler()\n",
    "    lr = LogisticRegression()\n",
    "    colIdx = subSet[f'lrT{i}'][0]\n",
    "    combX = X.iloc[:,list(colIdx)]\n",
    "    combX = pd.concat((combX, TrainTestDf[f'T{i}']),axis=1)\n",
    "    combX.dropna(inplace=True)\n",
    "    scaler.fit(combX.iloc[:,:-1])\n",
    "    X_train = np.hstack((scaler.transform(combX.iloc[:,:-1]), np.array(combX.iloc[:,-1]).reshape(-1,1)))\n",
    "    fitLr = lr.fit(X_train[:,:-1],X_train[:,-1])\n",
    "    lrModels.append((scaler, fitLr))\n",
    "    validScore = []\n",
    "    validDf = pd.concat((X.iloc[:,list(colIdx)], TrainTestDf[f'T{i}']),axis=1)\n",
    "    validDf.dropna(inplace=True)\n",
    "    X_valid = scaler.transform(validDf.iloc[:,:-1])\n",
    "    validProba.append(fitLr.predict_proba(X_valid)[:,1])\n",
    "    lrValidScores.append(validScore)"
   ]
  },
  {
   "cell_type": "code",
   "execution_count": 44,
   "metadata": {},
   "outputs": [],
   "source": [
    "validProba = np.array(validProba)"
   ]
  },
  {
   "cell_type": "code",
   "execution_count": 45,
   "metadata": {},
   "outputs": [
    {
     "data": {
      "text/html": [
       "<div>\n",
       "<style scoped>\n",
       "    .dataframe tbody tr th:only-of-type {\n",
       "        vertical-align: middle;\n",
       "    }\n",
       "\n",
       "    .dataframe tbody tr th {\n",
       "        vertical-align: top;\n",
       "    }\n",
       "\n",
       "    .dataframe thead th {\n",
       "        text-align: right;\n",
       "    }\n",
       "</style>\n",
       "<table border=\"1\" class=\"dataframe\">\n",
       "  <thead>\n",
       "    <tr style=\"text-align: right;\">\n",
       "      <th></th>\n",
       "      <th>lrPred0</th>\n",
       "      <th>lrPred1</th>\n",
       "      <th>lrPred2</th>\n",
       "      <th>lrPred3</th>\n",
       "      <th>lrPred4</th>\n",
       "      <th>MeanW/O0</th>\n",
       "      <th>MeanW/O1</th>\n",
       "      <th>MeanW/O2</th>\n",
       "      <th>MeanW/O3</th>\n",
       "      <th>MeanW/O4</th>\n",
       "      <th>Mean</th>\n",
       "    </tr>\n",
       "  </thead>\n",
       "  <tbody>\n",
       "    <tr>\n",
       "      <th>4</th>\n",
       "      <td>0.605707</td>\n",
       "      <td>0.866615</td>\n",
       "      <td>0.857394</td>\n",
       "      <td>0.435235</td>\n",
       "      <td>0.796740</td>\n",
       "      <td>0.738996</td>\n",
       "      <td>0.673769</td>\n",
       "      <td>0.676074</td>\n",
       "      <td>0.781614</td>\n",
       "      <td>0.691238</td>\n",
       "      <td>0.712338</td>\n",
       "    </tr>\n",
       "    <tr>\n",
       "      <th>16</th>\n",
       "      <td>0.598800</td>\n",
       "      <td>0.572460</td>\n",
       "      <td>0.337094</td>\n",
       "      <td>0.323768</td>\n",
       "      <td>0.367711</td>\n",
       "      <td>0.400258</td>\n",
       "      <td>0.406843</td>\n",
       "      <td>0.465685</td>\n",
       "      <td>0.469016</td>\n",
       "      <td>0.458031</td>\n",
       "      <td>0.439967</td>\n",
       "    </tr>\n",
       "    <tr>\n",
       "      <th>27</th>\n",
       "      <td>0.483569</td>\n",
       "      <td>0.774240</td>\n",
       "      <td>0.666031</td>\n",
       "      <td>0.521821</td>\n",
       "      <td>0.483385</td>\n",
       "      <td>0.611369</td>\n",
       "      <td>0.538702</td>\n",
       "      <td>0.565754</td>\n",
       "      <td>0.601806</td>\n",
       "      <td>0.611415</td>\n",
       "      <td>0.585809</td>\n",
       "    </tr>\n",
       "    <tr>\n",
       "      <th>56</th>\n",
       "      <td>0.470067</td>\n",
       "      <td>0.487739</td>\n",
       "      <td>0.619220</td>\n",
       "      <td>0.541394</td>\n",
       "      <td>0.470464</td>\n",
       "      <td>0.529704</td>\n",
       "      <td>0.525286</td>\n",
       "      <td>0.492416</td>\n",
       "      <td>0.511873</td>\n",
       "      <td>0.529605</td>\n",
       "      <td>0.517777</td>\n",
       "    </tr>\n",
       "    <tr>\n",
       "      <th>116</th>\n",
       "      <td>0.449475</td>\n",
       "      <td>0.475829</td>\n",
       "      <td>0.415166</td>\n",
       "      <td>0.445406</td>\n",
       "      <td>0.441006</td>\n",
       "      <td>0.444352</td>\n",
       "      <td>0.437763</td>\n",
       "      <td>0.452929</td>\n",
       "      <td>0.445369</td>\n",
       "      <td>0.446469</td>\n",
       "      <td>0.445376</td>\n",
       "    </tr>\n",
       "  </tbody>\n",
       "</table>\n",
       "</div>"
      ],
      "text/plain": [
       "      lrPred0   lrPred1   lrPred2   lrPred3   lrPred4  MeanW/O0  MeanW/O1  \\\n",
       "4    0.605707  0.866615  0.857394  0.435235  0.796740  0.738996  0.673769   \n",
       "16   0.598800  0.572460  0.337094  0.323768  0.367711  0.400258  0.406843   \n",
       "27   0.483569  0.774240  0.666031  0.521821  0.483385  0.611369  0.538702   \n",
       "56   0.470067  0.487739  0.619220  0.541394  0.470464  0.529704  0.525286   \n",
       "116  0.449475  0.475829  0.415166  0.445406  0.441006  0.444352  0.437763   \n",
       "\n",
       "     MeanW/O2  MeanW/O3  MeanW/O4      Mean  \n",
       "4    0.676074  0.781614  0.691238  0.712338  \n",
       "16   0.465685  0.469016  0.458031  0.439967  \n",
       "27   0.565754  0.601806  0.611415  0.585809  \n",
       "56   0.492416  0.511873  0.529605  0.517777  \n",
       "116  0.452929  0.445369  0.446469  0.445376  "
      ]
     },
     "execution_count": 45,
     "metadata": {},
     "output_type": "execute_result"
    }
   ],
   "source": [
    "valPredict = pd.DataFrame()\n",
    "for i in range(5):\n",
    "    valPredict[f'lrPred{i}'] = pd.Series(validProba[i], index=combX.index)\n",
    "for i in range(5):\n",
    "    valPredict[f'MeanW/O{i}'] = valPredict.iloc[:,:5].drop(f'lrPred{i}',axis=1).mean(axis=1)\n",
    "valPredict['Mean'] = valPredict.iloc[:,:5].mean(axis=1)\n",
    "valPredict.head()"
   ]
  },
  {
   "cell_type": "code",
   "execution_count": 46,
   "metadata": {},
   "outputs": [],
   "source": [
    "lrValidScores = []\n",
    "for m in range(11):\n",
    "    if m == 10:\n",
    "        modelName = 'Mean'\n",
    "    else:\n",
    "        modelName = f'lrPred{m}' if m < 5 else f'MeanW/O{m-5}'\n",
    "    qualityDf['pred'] = qualityDf.apply(lambda x: 1 if valPredict.loc[x['left'],modelName] > valPredict.loc[x['right'],modelName] else 2, axis=1)\n",
    "    qualityDf.rename({'T1_ALR':'T1','T2_CL':'T2','T3_GF':'T3','T4_MQ':'T4','T5_NS':'T5'},axis=1,inplace=True)\n",
    "    scoreList = []\n",
    "    for i in range(1,6):\n",
    "        scoreList.append(np.mean(qualityDf[f'T{i}'] == qualityDf['pred']))\n",
    "    lrValidScores.append(scoreList)"
   ]
  },
  {
   "cell_type": "code",
   "execution_count": 47,
   "metadata": {},
   "outputs": [
    {
     "data": {
      "text/plain": [
       "<matplotlib.legend.Legend at 0x7fcb32785250>"
      ]
     },
     "execution_count": 47,
     "metadata": {},
     "output_type": "execute_result"
    },
    {
     "data": {
      "image/png": "[encoded data removed]",
      "text/plain": [
       "<Figure size 640x480 with 1 Axes>"
      ]
     },
     "metadata": {},
     "output_type": "display_data"
    }
   ],
   "source": [
    "for i in range(5):\n",
    "    plt.plot(lrValidScores[i], label=f'T{i+1}')\n",
    "plt.legend()\n",
    "for i in range(5):\n",
    "    plt.plot(lrValidScores[i+5], '.--',label=f'W/O{i+1}')\n",
    "plt.plot(lrValidScores[10], '*-',label=f'Mean')\n",
    "plt.legend()"
   ]
  },
  {
   "cell_type": "code",
   "execution_count": 48,
   "metadata": {},
   "outputs": [
    {
     "data": {
      "text/plain": [
       "array([0.752, 0.72 , 0.744, 0.616, 0.728, 0.776, 0.776, 0.776, 0.768,\n",
       "       0.776, 0.776])"
      ]
     },
     "execution_count": 48,
     "metadata": {},
     "output_type": "execute_result"
    }
   ],
   "source": [
    "np.mean(np.array(lrValidScores),axis=1)"
   ]
  },
  {
   "cell_type": "code",
   "execution_count": 49,
   "metadata": {},
   "outputs": [],
   "source": [
    "indexs = []\n",
    "for i in range(1,12):\n",
    "    if i < 6:\n",
    "        indexs.append(f'T{i}')\n",
    "    elif i != 11:\n",
    "        indexs.append(f'W/O T{i-5}')\n",
    "    else:\n",
    "        indexs.append('Mean')"
   ]
  },
  {
   "cell_type": "code",
   "execution_count": 50,
   "metadata": {},
   "outputs": [
    {
     "data": {
      "text/html": [
       "<div>\n",
       "<style scoped>\n",
       "    .dataframe tbody tr th:only-of-type {\n",
       "        vertical-align: middle;\n",
       "    }\n",
       "\n",
       "    .dataframe tbody tr th {\n",
       "        vertical-align: top;\n",
       "    }\n",
       "\n",
       "    .dataframe thead th {\n",
       "        text-align: right;\n",
       "    }\n",
       "</style>\n",
       "<table border=\"1\" class=\"dataframe\">\n",
       "  <thead>\n",
       "    <tr style=\"text-align: right;\">\n",
       "      <th></th>\n",
       "      <th>T1</th>\n",
       "      <th>T2</th>\n",
       "      <th>T3</th>\n",
       "      <th>T4</th>\n",
       "      <th>T5</th>\n",
       "    </tr>\n",
       "  </thead>\n",
       "  <tbody>\n",
       "    <tr>\n",
       "      <th>T1</th>\n",
       "      <td>0.96</td>\n",
       "      <td>0.68</td>\n",
       "      <td>0.76</td>\n",
       "      <td>0.64</td>\n",
       "      <td>0.72</td>\n",
       "    </tr>\n",
       "    <tr>\n",
       "      <th>T2</th>\n",
       "      <td>0.72</td>\n",
       "      <td>0.84</td>\n",
       "      <td>0.76</td>\n",
       "      <td>0.56</td>\n",
       "      <td>0.72</td>\n",
       "    </tr>\n",
       "    <tr>\n",
       "      <th>T3</th>\n",
       "      <td>0.76</td>\n",
       "      <td>0.72</td>\n",
       "      <td>0.88</td>\n",
       "      <td>0.68</td>\n",
       "      <td>0.68</td>\n",
       "    </tr>\n",
       "    <tr>\n",
       "      <th>T4</th>\n",
       "      <td>0.68</td>\n",
       "      <td>0.48</td>\n",
       "      <td>0.56</td>\n",
       "      <td>0.76</td>\n",
       "      <td>0.60</td>\n",
       "    </tr>\n",
       "    <tr>\n",
       "      <th>T5</th>\n",
       "      <td>0.76</td>\n",
       "      <td>0.72</td>\n",
       "      <td>0.80</td>\n",
       "      <td>0.60</td>\n",
       "      <td>0.76</td>\n",
       "    </tr>\n",
       "    <tr>\n",
       "      <th>W/O T1</th>\n",
       "      <td>0.76</td>\n",
       "      <td>0.80</td>\n",
       "      <td>0.88</td>\n",
       "      <td>0.68</td>\n",
       "      <td>0.76</td>\n",
       "    </tr>\n",
       "    <tr>\n",
       "      <th>W/O T2</th>\n",
       "      <td>0.84</td>\n",
       "      <td>0.80</td>\n",
       "      <td>0.80</td>\n",
       "      <td>0.68</td>\n",
       "      <td>0.76</td>\n",
       "    </tr>\n",
       "    <tr>\n",
       "      <th>W/O T3</th>\n",
       "      <td>0.84</td>\n",
       "      <td>0.80</td>\n",
       "      <td>0.80</td>\n",
       "      <td>0.68</td>\n",
       "      <td>0.76</td>\n",
       "    </tr>\n",
       "    <tr>\n",
       "      <th>W/O T4</th>\n",
       "      <td>0.80</td>\n",
       "      <td>0.76</td>\n",
       "      <td>0.84</td>\n",
       "      <td>0.64</td>\n",
       "      <td>0.80</td>\n",
       "    </tr>\n",
       "    <tr>\n",
       "      <th>W/O T5</th>\n",
       "      <td>0.84</td>\n",
       "      <td>0.80</td>\n",
       "      <td>0.80</td>\n",
       "      <td>0.68</td>\n",
       "      <td>0.76</td>\n",
       "    </tr>\n",
       "    <tr>\n",
       "      <th>Mean</th>\n",
       "      <td>0.84</td>\n",
       "      <td>0.80</td>\n",
       "      <td>0.80</td>\n",
       "      <td>0.68</td>\n",
       "      <td>0.76</td>\n",
       "    </tr>\n",
       "  </tbody>\n",
       "</table>\n",
       "</div>"
      ],
      "text/plain": [
       "          T1    T2    T3    T4    T5\n",
       "T1      0.96  0.68  0.76  0.64  0.72\n",
       "T2      0.72  0.84  0.76  0.56  0.72\n",
       "T3      0.76  0.72  0.88  0.68  0.68\n",
       "T4      0.68  0.48  0.56  0.76  0.60\n",
       "T5      0.76  0.72  0.80  0.60  0.76\n",
       "W/O T1  0.76  0.80  0.88  0.68  0.76\n",
       "W/O T2  0.84  0.80  0.80  0.68  0.76\n",
       "W/O T3  0.84  0.80  0.80  0.68  0.76\n",
       "W/O T4  0.80  0.76  0.84  0.64  0.80\n",
       "W/O T5  0.84  0.80  0.80  0.68  0.76\n",
       "Mean    0.84  0.80  0.80  0.68  0.76"
      ]
     },
     "execution_count": 50,
     "metadata": {},
     "output_type": "execute_result"
    }
   ],
   "source": [
    "pd.DataFrame(np.array(lrValidScores), columns=['T1','T2','T3','T4','T5'], index= indexs)"
   ]
  },
  {
   "attachments": {},
   "cell_type": "markdown",
   "metadata": {},
   "source": [
    "### test"
   ]
  },
  {
   "attachments": {},
   "cell_type": "markdown",
   "metadata": {},
   "source": [
    "## Model Selection with L1 regularlization"
   ]
  },
  {
   "cell_type": "code",
   "execution_count": 51,
   "metadata": {},
   "outputs": [],
   "source": [
    "from sklearn.linear_model import LogisticRegression\n",
    "from sklearn.model_selection import cross_validate\n",
    "from sklearn.preprocessing import StandardScaler"
   ]
  },
  {
   "cell_type": "code",
   "execution_count": 52,
   "metadata": {},
   "outputs": [],
   "source": [
    "subSet = {}\n",
    "bestParams = []\n",
    "for i in range(1,6):\n",
    "    max_score = 0\n",
    "    bestParam = {'penalty':'l1', 'C':'0', 'solver':'liblinear'}\n",
    "    for c in np.logspace(-2,2,5):\n",
    "        scaler = StandardScaler()\n",
    "        lr = LogisticRegression(penalty='l1',C=c,solver='liblinear')\n",
    "        train_X = pd.concat((X, TrainTestDf[f'T{i}']),axis=1)\n",
    "        train_X.dropna(inplace=True)\n",
    "        X_train = np.hstack((scaler.fit_transform(train_X.iloc[:,:-1]), np.array(train_X.iloc[:,-1]).reshape(-1,1)))\n",
    "        lrCv = cross_validate(lr,X_train[:,:-1],X_train[:,-1],n_jobs=-1,cv=X_train.shape[1])\n",
    "        score = np.mean(lrCv['test_score'])\n",
    "        if score > max_score:\n",
    "            max_score = score\n",
    "            bestParam['C'] = c\n",
    "    bestParams.append(bestParam)"
   ]
  },
  {
   "cell_type": "code",
   "execution_count": 53,
   "metadata": {},
   "outputs": [
    {
     "data": {
      "text/plain": [
       "[{'penalty': 'l1', 'C': 1.0, 'solver': 'liblinear'},\n",
       " {'penalty': 'l1', 'C': 1.0, 'solver': 'liblinear'},\n",
       " {'penalty': 'l1', 'C': 10.0, 'solver': 'liblinear'},\n",
       " {'penalty': 'l1', 'C': 10.0, 'solver': 'liblinear'},\n",
       " {'penalty': 'l1', 'C': 1.0, 'solver': 'liblinear'}]"
      ]
     },
     "execution_count": 53,
     "metadata": {},
     "output_type": "execute_result"
    }
   ],
   "source": [
    "bestParams"
   ]
  },
  {
   "attachments": {},
   "cell_type": "markdown",
   "metadata": {},
   "source": [
    "### Validation"
   ]
  },
  {
   "cell_type": "code",
   "execution_count": 54,
   "metadata": {},
   "outputs": [],
   "source": [
    "lrModels = []\n",
    "validProba = []\n",
    "for i in range(5):\n",
    "    scaler = StandardScaler()\n",
    "    lr = LogisticRegression(**bestParams[i])\n",
    "    scaler.fit(train_X.iloc[:,:-1])\n",
    "    train_X = pd.concat((X, TrainTestDf[f'T{i+1}']),axis=1)\n",
    "    train_X.dropna(inplace=True)\n",
    "    X_train = np.hstack((scaler.transform(train_X.iloc[:,:-1]), np.array(train_X.iloc[:,-1]).reshape(-1,1)))\n",
    "    fitLr = lr.fit(X_train[:,:-1],X_train[:,-1])\n",
    "    lrModels.append((scaler, fitLr))\n",
    "    X_valid = scaler.transform(train_X.iloc[:,:-1])\n",
    "    validProba.append(fitLr.predict_proba(X_valid)[:,1])"
   ]
  },
  {
   "cell_type": "code",
   "execution_count": 55,
   "metadata": {},
   "outputs": [
    {
     "data": {
      "text/html": [
       "<div>\n",
       "<style scoped>\n",
       "    .dataframe tbody tr th:only-of-type {\n",
       "        vertical-align: middle;\n",
       "    }\n",
       "\n",
       "    .dataframe tbody tr th {\n",
       "        vertical-align: top;\n",
       "    }\n",
       "\n",
       "    .dataframe thead th {\n",
       "        text-align: right;\n",
       "    }\n",
       "</style>\n",
       "<table border=\"1\" class=\"dataframe\">\n",
       "  <thead>\n",
       "    <tr style=\"text-align: right;\">\n",
       "      <th></th>\n",
       "      <th>AnswerProba</th>\n",
       "      <th>ElseEntropy</th>\n",
       "      <th>AnswerEntropy</th>\n",
       "      <th>stdX</th>\n",
       "      <th>stdY</th>\n",
       "      <th>text_length</th>\n",
       "      <th>alphaWordCount</th>\n",
       "      <th>signWordCount</th>\n",
       "      <th>numericWordCount</th>\n",
       "      <th>avg_word_length</th>\n",
       "    </tr>\n",
       "  </thead>\n",
       "  <tbody>\n",
       "    <tr>\n",
       "      <th>T1</th>\n",
       "      <td>-0.381697</td>\n",
       "      <td>0.230370</td>\n",
       "      <td>0.270132</td>\n",
       "      <td>-0.831501</td>\n",
       "      <td>-0.524533</td>\n",
       "      <td>0.000000</td>\n",
       "      <td>0.004116</td>\n",
       "      <td>0.000000</td>\n",
       "      <td>-0.386030</td>\n",
       "      <td>-0.766522</td>\n",
       "    </tr>\n",
       "    <tr>\n",
       "      <th>T2</th>\n",
       "      <td>-0.189338</td>\n",
       "      <td>0.673943</td>\n",
       "      <td>1.006322</td>\n",
       "      <td>0.134880</td>\n",
       "      <td>-0.317700</td>\n",
       "      <td>0.000000</td>\n",
       "      <td>0.076983</td>\n",
       "      <td>-0.106857</td>\n",
       "      <td>-0.140863</td>\n",
       "      <td>0.000000</td>\n",
       "    </tr>\n",
       "    <tr>\n",
       "      <th>T3</th>\n",
       "      <td>-1.450605</td>\n",
       "      <td>1.975882</td>\n",
       "      <td>1.029463</td>\n",
       "      <td>0.000000</td>\n",
       "      <td>0.000000</td>\n",
       "      <td>0.000000</td>\n",
       "      <td>1.121463</td>\n",
       "      <td>-0.336201</td>\n",
       "      <td>-2.371794</td>\n",
       "      <td>-0.242600</td>\n",
       "    </tr>\n",
       "    <tr>\n",
       "      <th>T4</th>\n",
       "      <td>-0.373091</td>\n",
       "      <td>-0.467929</td>\n",
       "      <td>-0.141686</td>\n",
       "      <td>-0.654232</td>\n",
       "      <td>0.535728</td>\n",
       "      <td>-3.968845</td>\n",
       "      <td>4.340156</td>\n",
       "      <td>0.635367</td>\n",
       "      <td>-0.445466</td>\n",
       "      <td>1.430068</td>\n",
       "    </tr>\n",
       "    <tr>\n",
       "      <th>T5</th>\n",
       "      <td>-0.646178</td>\n",
       "      <td>0.076312</td>\n",
       "      <td>0.132730</td>\n",
       "      <td>0.000000</td>\n",
       "      <td>-0.011600</td>\n",
       "      <td>0.000000</td>\n",
       "      <td>0.131166</td>\n",
       "      <td>0.000000</td>\n",
       "      <td>0.000000</td>\n",
       "      <td>-0.821658</td>\n",
       "    </tr>\n",
       "  </tbody>\n",
       "</table>\n",
       "</div>"
      ],
      "text/plain": [
       "    AnswerProba  ElseEntropy  AnswerEntropy      stdX      stdY  text_length  \\\n",
       "T1    -0.381697     0.230370       0.270132 -0.831501 -0.524533     0.000000   \n",
       "T2    -0.189338     0.673943       1.006322  0.134880 -0.317700     0.000000   \n",
       "T3    -1.450605     1.975882       1.029463  0.000000  0.000000     0.000000   \n",
       "T4    -0.373091    -0.467929      -0.141686 -0.654232  0.535728    -3.968845   \n",
       "T5    -0.646178     0.076312       0.132730  0.000000 -0.011600     0.000000   \n",
       "\n",
       "    alphaWordCount  signWordCount  numericWordCount  avg_word_length  \n",
       "T1        0.004116       0.000000         -0.386030        -0.766522  \n",
       "T2        0.076983      -0.106857         -0.140863         0.000000  \n",
       "T3        1.121463      -0.336201         -2.371794        -0.242600  \n",
       "T4        4.340156       0.635367         -0.445466         1.430068  \n",
       "T5        0.131166       0.000000          0.000000        -0.821658  "
      ]
     },
     "execution_count": 55,
     "metadata": {},
     "output_type": "execute_result"
    }
   ],
   "source": [
    "coefs = []\n",
    "for scaler, model in lrModels:\n",
    "    coefs.append(model.coef_[0])\n",
    "pd.DataFrame(coefs,columns=X.columns,index=['T1','T2','T3','T4','T5'])"
   ]
  },
  {
   "cell_type": "code",
   "execution_count": 56,
   "metadata": {},
   "outputs": [],
   "source": [
    "validProba = np.array(validProba)"
   ]
  },
  {
   "cell_type": "code",
   "execution_count": 57,
   "metadata": {},
   "outputs": [
    {
     "data": {
      "text/html": [
       "<div>\n",
       "<style scoped>\n",
       "    .dataframe tbody tr th:only-of-type {\n",
       "        vertical-align: middle;\n",
       "    }\n",
       "\n",
       "    .dataframe tbody tr th {\n",
       "        vertical-align: top;\n",
       "    }\n",
       "\n",
       "    .dataframe thead th {\n",
       "        text-align: right;\n",
       "    }\n",
       "</style>\n",
       "<table border=\"1\" class=\"dataframe\">\n",
       "  <thead>\n",
       "    <tr style=\"text-align: right;\">\n",
       "      <th></th>\n",
       "      <th>lrPred0</th>\n",
       "      <th>lrPred1</th>\n",
       "      <th>lrPred2</th>\n",
       "      <th>lrPred3</th>\n",
       "      <th>lrPred4</th>\n",
       "      <th>MeanW/O0</th>\n",
       "      <th>MeanW/O1</th>\n",
       "      <th>MeanW/O2</th>\n",
       "      <th>MeanW/O3</th>\n",
       "      <th>MeanW/O4</th>\n",
       "      <th>Mean</th>\n",
       "    </tr>\n",
       "  </thead>\n",
       "  <tbody>\n",
       "    <tr>\n",
       "      <th>4</th>\n",
       "      <td>0.867974</td>\n",
       "      <td>0.815712</td>\n",
       "      <td>0.994692</td>\n",
       "      <td>0.728104</td>\n",
       "      <td>0.878781</td>\n",
       "      <td>0.854322</td>\n",
       "      <td>0.867388</td>\n",
       "      <td>0.822643</td>\n",
       "      <td>0.889290</td>\n",
       "      <td>0.851621</td>\n",
       "      <td>0.857053</td>\n",
       "    </tr>\n",
       "    <tr>\n",
       "      <th>16</th>\n",
       "      <td>0.651427</td>\n",
       "      <td>0.598298</td>\n",
       "      <td>0.257607</td>\n",
       "      <td>0.217223</td>\n",
       "      <td>0.475956</td>\n",
       "      <td>0.387271</td>\n",
       "      <td>0.400553</td>\n",
       "      <td>0.485726</td>\n",
       "      <td>0.495822</td>\n",
       "      <td>0.431139</td>\n",
       "      <td>0.440102</td>\n",
       "    </tr>\n",
       "    <tr>\n",
       "      <th>27</th>\n",
       "      <td>0.434259</td>\n",
       "      <td>0.769580</td>\n",
       "      <td>0.430798</td>\n",
       "      <td>0.604228</td>\n",
       "      <td>0.295696</td>\n",
       "      <td>0.525075</td>\n",
       "      <td>0.441245</td>\n",
       "      <td>0.525941</td>\n",
       "      <td>0.482583</td>\n",
       "      <td>0.559716</td>\n",
       "      <td>0.506912</td>\n",
       "    </tr>\n",
       "    <tr>\n",
       "      <th>56</th>\n",
       "      <td>0.312438</td>\n",
       "      <td>0.584884</td>\n",
       "      <td>0.753810</td>\n",
       "      <td>0.664302</td>\n",
       "      <td>0.476953</td>\n",
       "      <td>0.619987</td>\n",
       "      <td>0.551876</td>\n",
       "      <td>0.509644</td>\n",
       "      <td>0.532021</td>\n",
       "      <td>0.578859</td>\n",
       "      <td>0.558477</td>\n",
       "    </tr>\n",
       "    <tr>\n",
       "      <th>116</th>\n",
       "      <td>0.272315</td>\n",
       "      <td>0.544407</td>\n",
       "      <td>0.415526</td>\n",
       "      <td>0.497554</td>\n",
       "      <td>0.452580</td>\n",
       "      <td>0.477516</td>\n",
       "      <td>0.409493</td>\n",
       "      <td>0.441714</td>\n",
       "      <td>0.421207</td>\n",
       "      <td>0.432450</td>\n",
       "      <td>0.436476</td>\n",
       "    </tr>\n",
       "  </tbody>\n",
       "</table>\n",
       "</div>"
      ],
      "text/plain": [
       "      lrPred0   lrPred1   lrPred2   lrPred3   lrPred4  MeanW/O0  MeanW/O1  \\\n",
       "4    0.867974  0.815712  0.994692  0.728104  0.878781  0.854322  0.867388   \n",
       "16   0.651427  0.598298  0.257607  0.217223  0.475956  0.387271  0.400553   \n",
       "27   0.434259  0.769580  0.430798  0.604228  0.295696  0.525075  0.441245   \n",
       "56   0.312438  0.584884  0.753810  0.664302  0.476953  0.619987  0.551876   \n",
       "116  0.272315  0.544407  0.415526  0.497554  0.452580  0.477516  0.409493   \n",
       "\n",
       "     MeanW/O2  MeanW/O3  MeanW/O4      Mean  \n",
       "4    0.822643  0.889290  0.851621  0.857053  \n",
       "16   0.485726  0.495822  0.431139  0.440102  \n",
       "27   0.525941  0.482583  0.559716  0.506912  \n",
       "56   0.509644  0.532021  0.578859  0.558477  \n",
       "116  0.441714  0.421207  0.432450  0.436476  "
      ]
     },
     "execution_count": 57,
     "metadata": {},
     "output_type": "execute_result"
    }
   ],
   "source": [
    "valPredict = pd.DataFrame()\n",
    "for i in range(5):\n",
    "    valPredict[f'lrPred{i}'] = pd.Series(validProba[i], index=train_X.index)\n",
    "for i in range(5):\n",
    "    valPredict[f'MeanW/O{i}'] = valPredict.iloc[:,:5].drop(f'lrPred{i}',axis=1).mean(axis=1)\n",
    "valPredict['Mean'] = valPredict.iloc[:,:5].mean(axis=1)\n",
    "valPredict.head()"
   ]
  },
  {
   "cell_type": "code",
   "execution_count": 58,
   "metadata": {},
   "outputs": [],
   "source": [
    "lrValidScores = []\n",
    "for m in range(11):\n",
    "    if m == 10:\n",
    "        modelName = 'Mean'\n",
    "    else:\n",
    "        modelName = f'lrPred{m}' if m < 5 else f'MeanW/O{m-5}'\n",
    "    qualityDf['pred'] = qualityDf.apply(lambda x: 1 if valPredict.loc[x['left'],modelName] > valPredict.loc[x['right'],modelName] else 2, axis=1)\n",
    "    qualityDf.rename({'T1_ALR':'T1','T2_CL':'T2','T3_GF':'T3','T4_MQ':'T4','T5_NS':'T5'},axis=1,inplace=True)\n",
    "    scoreList = []\n",
    "    for i in range(1,6):\n",
    "        scoreList.append(np.mean(qualityDf[f'T{i}'] == qualityDf['pred']))\n",
    "    lrValidScores.append(scoreList)"
   ]
  },
  {
   "cell_type": "code",
   "execution_count": 59,
   "metadata": {},
   "outputs": [
    {
     "data": {
      "text/plain": [
       "<matplotlib.legend.Legend at 0x7fcb29a4d940>"
      ]
     },
     "execution_count": 59,
     "metadata": {},
     "output_type": "execute_result"
    },
    {
     "data": {
      "image/png": "[encoded data removed]",
      "text/plain": [
       "<Figure size 640x480 with 1 Axes>"
      ]
     },
     "metadata": {},
     "output_type": "display_data"
    }
   ],
   "source": [
    "for i in range(5):\n",
    "    plt.plot(lrValidScores[i], label=f'T{i+1}')\n",
    "plt.legend()"
   ]
  },
  {
   "cell_type": "code",
   "execution_count": 60,
   "metadata": {},
   "outputs": [
    {
     "data": {
      "text/plain": [
       "<matplotlib.legend.Legend at 0x7fcb3283c940>"
      ]
     },
     "execution_count": 60,
     "metadata": {},
     "output_type": "execute_result"
    },
    {
     "data": {
      "image/png": "[encoded data removed]",
      "text/plain": [
       "<Figure size 640x480 with 1 Axes>"
      ]
     },
     "metadata": {},
     "output_type": "display_data"
    }
   ],
   "source": [
    "for i in range(5):\n",
    "    plt.plot(lrValidScores[i+5], '.--',label=f'W/O{i+1}')\n",
    "plt.plot(lrValidScores[10], '*-',label=f'Mean')\n",
    "plt.legend()"
   ]
  },
  {
   "cell_type": "code",
   "execution_count": 61,
   "metadata": {},
   "outputs": [
    {
     "data": {
      "text/plain": [
       "array([0.776, 0.728, 0.76 , 0.64 , 0.664, 0.784, 0.768, 0.768, 0.776,\n",
       "       0.776, 0.776])"
      ]
     },
     "execution_count": 61,
     "metadata": {},
     "output_type": "execute_result"
    }
   ],
   "source": [
    "np.mean(lrValidScores,axis=1)"
   ]
  },
  {
   "cell_type": "code",
   "execution_count": 62,
   "metadata": {},
   "outputs": [],
   "source": [
    "indexs = []\n",
    "for i in range(1,12):\n",
    "    if i < 6:\n",
    "        indexs.append(f'T{i}')\n",
    "    elif i != 11:\n",
    "        indexs.append(f'W/O T{i-5}')\n",
    "    else:\n",
    "        indexs.append('Mean')"
   ]
  },
  {
   "cell_type": "code",
   "execution_count": 63,
   "metadata": {},
   "outputs": [
    {
     "data": {
      "text/html": [
       "<div>\n",
       "<style scoped>\n",
       "    .dataframe tbody tr th:only-of-type {\n",
       "        vertical-align: middle;\n",
       "    }\n",
       "\n",
       "    .dataframe tbody tr th {\n",
       "        vertical-align: top;\n",
       "    }\n",
       "\n",
       "    .dataframe thead th {\n",
       "        text-align: right;\n",
       "    }\n",
       "</style>\n",
       "<table border=\"1\" class=\"dataframe\">\n",
       "  <thead>\n",
       "    <tr style=\"text-align: right;\">\n",
       "      <th></th>\n",
       "      <th>T1</th>\n",
       "      <th>T2</th>\n",
       "      <th>T3</th>\n",
       "      <th>T4</th>\n",
       "      <th>T5</th>\n",
       "    </tr>\n",
       "  </thead>\n",
       "  <tbody>\n",
       "    <tr>\n",
       "      <th>T1</th>\n",
       "      <td>0.92</td>\n",
       "      <td>0.72</td>\n",
       "      <td>0.80</td>\n",
       "      <td>0.68</td>\n",
       "      <td>0.76</td>\n",
       "    </tr>\n",
       "    <tr>\n",
       "      <th>T2</th>\n",
       "      <td>0.76</td>\n",
       "      <td>0.88</td>\n",
       "      <td>0.72</td>\n",
       "      <td>0.60</td>\n",
       "      <td>0.68</td>\n",
       "    </tr>\n",
       "    <tr>\n",
       "      <th>T3</th>\n",
       "      <td>0.76</td>\n",
       "      <td>0.72</td>\n",
       "      <td>0.96</td>\n",
       "      <td>0.68</td>\n",
       "      <td>0.68</td>\n",
       "    </tr>\n",
       "    <tr>\n",
       "      <th>T4</th>\n",
       "      <td>0.64</td>\n",
       "      <td>0.60</td>\n",
       "      <td>0.60</td>\n",
       "      <td>0.88</td>\n",
       "      <td>0.48</td>\n",
       "    </tr>\n",
       "    <tr>\n",
       "      <th>T5</th>\n",
       "      <td>0.60</td>\n",
       "      <td>0.64</td>\n",
       "      <td>0.80</td>\n",
       "      <td>0.52</td>\n",
       "      <td>0.76</td>\n",
       "    </tr>\n",
       "    <tr>\n",
       "      <th>W/O T1</th>\n",
       "      <td>0.80</td>\n",
       "      <td>0.76</td>\n",
       "      <td>0.92</td>\n",
       "      <td>0.72</td>\n",
       "      <td>0.72</td>\n",
       "    </tr>\n",
       "    <tr>\n",
       "      <th>W/O T2</th>\n",
       "      <td>0.88</td>\n",
       "      <td>0.68</td>\n",
       "      <td>0.84</td>\n",
       "      <td>0.64</td>\n",
       "      <td>0.80</td>\n",
       "    </tr>\n",
       "    <tr>\n",
       "      <th>W/O T3</th>\n",
       "      <td>0.88</td>\n",
       "      <td>0.68</td>\n",
       "      <td>0.84</td>\n",
       "      <td>0.64</td>\n",
       "      <td>0.80</td>\n",
       "    </tr>\n",
       "    <tr>\n",
       "      <th>W/O T4</th>\n",
       "      <td>0.84</td>\n",
       "      <td>0.72</td>\n",
       "      <td>0.88</td>\n",
       "      <td>0.68</td>\n",
       "      <td>0.76</td>\n",
       "    </tr>\n",
       "    <tr>\n",
       "      <th>W/O T5</th>\n",
       "      <td>0.84</td>\n",
       "      <td>0.72</td>\n",
       "      <td>0.88</td>\n",
       "      <td>0.68</td>\n",
       "      <td>0.76</td>\n",
       "    </tr>\n",
       "    <tr>\n",
       "      <th>Mean</th>\n",
       "      <td>0.84</td>\n",
       "      <td>0.72</td>\n",
       "      <td>0.88</td>\n",
       "      <td>0.68</td>\n",
       "      <td>0.76</td>\n",
       "    </tr>\n",
       "  </tbody>\n",
       "</table>\n",
       "</div>"
      ],
      "text/plain": [
       "          T1    T2    T3    T4    T5\n",
       "T1      0.92  0.72  0.80  0.68  0.76\n",
       "T2      0.76  0.88  0.72  0.60  0.68\n",
       "T3      0.76  0.72  0.96  0.68  0.68\n",
       "T4      0.64  0.60  0.60  0.88  0.48\n",
       "T5      0.60  0.64  0.80  0.52  0.76\n",
       "W/O T1  0.80  0.76  0.92  0.72  0.72\n",
       "W/O T2  0.88  0.68  0.84  0.64  0.80\n",
       "W/O T3  0.88  0.68  0.84  0.64  0.80\n",
       "W/O T4  0.84  0.72  0.88  0.68  0.76\n",
       "W/O T5  0.84  0.72  0.88  0.68  0.76\n",
       "Mean    0.84  0.72  0.88  0.68  0.76"
      ]
     },
     "execution_count": 63,
     "metadata": {},
     "output_type": "execute_result"
    }
   ],
   "source": [
    "pd.DataFrame(np.array(lrValidScores), columns=['T1','T2','T3','T4','T5'], index= indexs)"
   ]
  },
  {
   "attachments": {},
   "cell_type": "markdown",
   "metadata": {},
   "source": [
    "## Test"
   ]
  },
  {
   "cell_type": "code",
   "execution_count": 64,
   "metadata": {},
   "outputs": [],
   "source": [
    "lrPred = []\n",
    "for i, model in enumerate(lrModels):\n",
    "    scaler, model = model\n",
    "    testX = scaler.transform(testDf)\n",
    "    lrPred.append(model.predict_proba(testX)[:,1])"
   ]
  },
  {
   "cell_type": "code",
   "execution_count": 65,
   "metadata": {},
   "outputs": [],
   "source": [
    "predict = pd.DataFrame()\n",
    "for i in range(5):\n",
    "    predict[f'lrPred{i}'] = pd.Series(lrPred[i], index=testDf.index)\n",
    "predict['Mean'] = predict.drop('lrPred0',axis=1).mean(axis=1)"
   ]
  },
  {
   "cell_type": "code",
   "execution_count": null,
   "metadata": {},
   "outputs": [],
   "source": []
  },
  {
   "cell_type": "code",
   "execution_count": 66,
   "metadata": {},
   "outputs": [
    {
     "data": {
      "text/html": [
       "<div>\n",
       "<style scoped>\n",
       "    .dataframe tbody tr th:only-of-type {\n",
       "        vertical-align: middle;\n",
       "    }\n",
       "\n",
       "    .dataframe tbody tr th {\n",
       "        vertical-align: top;\n",
       "    }\n",
       "\n",
       "    .dataframe thead th {\n",
       "        text-align: right;\n",
       "    }\n",
       "</style>\n",
       "<table border=\"1\" class=\"dataframe\">\n",
       "  <thead>\n",
       "    <tr style=\"text-align: right;\">\n",
       "      <th></th>\n",
       "      <th>T1</th>\n",
       "      <th>T2</th>\n",
       "      <th>T3</th>\n",
       "      <th>T4</th>\n",
       "      <th>T5</th>\n",
       "    </tr>\n",
       "  </thead>\n",
       "  <tbody>\n",
       "    <tr>\n",
       "      <th>0</th>\n",
       "      <td>0.68</td>\n",
       "      <td>0.64</td>\n",
       "      <td>0.64</td>\n",
       "      <td>0.72</td>\n",
       "      <td>0.84</td>\n",
       "    </tr>\n",
       "  </tbody>\n",
       "</table>\n",
       "</div>"
      ],
      "text/plain": [
       "     T1    T2    T3    T4    T5\n",
       "0  0.68  0.64  0.64  0.72  0.84"
      ]
     },
     "execution_count": 66,
     "metadata": {},
     "output_type": "execute_result"
    }
   ],
   "source": [
    "scoreList = []\n",
    "modelName = 'Mean'\n",
    "testTaskDf['pred'] = testTaskDf.apply(lambda x: 1 if predict.loc[x['left'],modelName] > predict.loc[x['right'],modelName] else 2, axis=1)\n",
    "testTaskDf.rename({'T1_ALR':'T1','T2_CL':'T2','T3_GF':'T3','T4_MQ':'T4','T5_NS':'T5'},axis=1,inplace=True)\n",
    "for i in range(1,6):\n",
    "    scoreList.append(np.mean(testTaskDf[f'T{i}'] == testTaskDf['pred']))\n",
    "pd.DataFrame(np.array(scoreList).reshape(1,-1), columns=['T1','T2','T3','T4','T5'])"
   ]
  }
 ],
 "metadata": {
  "kernelspec": {
   "display_name": "ML",
   "language": "python",
   "name": "python3"
  },
  "language_info": {
   "codemirror_mode": {
    "name": "ipython",
    "version": 3
   },
   "file_extension": ".py",
   "mimetype": "text/x-python",
   "name": "python",
   "nbconvert_exporter": "python",
   "pygments_lexer": "ipython3",
   "version": "3.9.16"
  },
  "orig_nbformat": 4
 },
 "nbformat": 4,
 "nbformat_minor": 2
}
